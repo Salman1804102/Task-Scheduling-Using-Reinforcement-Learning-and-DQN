{
  "cells": [
    {
      "cell_type": "code",
      "source": [
        "import numpy as np\n",
        "import pandas as pd\n",
        "import random\n",
        "np.random.seed(10)\n",
        "import matplotlib.pyplot as plt"
      ],
      "metadata": {
        "id": "hxCzjB8Tkfxg"
      },
      "execution_count": null,
      "outputs": []
    },
    {
      "cell_type": "code",
      "source": [
        "\n",
        "\n",
        "df = df = pd.read_csv(\"/content/CNP.csv\")\n",
        "\n",
        "plt.xlabel(\"Resource Requirements\")\n",
        "plt.ylabel(\"Number Of Task Count\")\n",
        "plt.title(\"Resource Requirement Counts\")\n",
        "plt.hist([df['CPU'], df['Memory']], rwidth=0.95, color=['green','orange'],label=['CPU','Memory'])\n",
        "plt.legend();\n"
      ],
      "metadata": {
        "colab": {
          "base_uri": "https://localhost:8080/",
          "height": 295
        },
        "id": "i6UWZwoXIN0U",
        "outputId": "431dc2a6-6cf3-48ab-a1fa-c8402e2cbf18"
      },
      "execution_count": null,
      "outputs": [
        {
          "output_type": "display_data",
          "data": {
            "text/plain": [
              "<Figure size 432x288 with 1 Axes>"
            ],
            "image/png": "[encoded data removed]"
          },
          "metadata": {
            "needs_background": "light"
          }
        }
      ]
    },
    {
      "cell_type": "code",
      "source": [
        "plt.xlabel(\"CPU\")\n",
        "plt.ylabel(\"Memory\")\n",
        "plt.title(\"CPU Vs Memory\")\n",
        "plt.scatter(df['Memory'], df['CPU'], color='orange')\n",
        "plt.show()"
      ],
      "metadata": {
        "colab": {
          "base_uri": "https://localhost:8080/",
          "height": 295
        },
        "id": "3KjmGqAa-lcw",
        "outputId": "ebf4bf42-fc53-4220-d978-9f6d85b689a1"
      },
      "execution_count": null,
      "outputs": [
        {
          "output_type": "display_data",
          "data": {
            "text/plain": [
              "<Figure size 432x288 with 1 Axes>"
            ],
            "image/png": "[encoded data removed]"
          },
          "metadata": {
            "needs_background": "light"
          }
        }
      ]
    },
    {
      "cell_type": "code",
      "source": [
        "plt.xlabel(\"Memory\")\n",
        "plt.ylabel(\"CPU\")\n",
        "plt.title(\"Memory Vs CPU\")\n",
        "plt.scatter(df['CPU'], df['Memory'], color='red')\n",
        "plt.show()"
      ],
      "metadata": {
        "colab": {
          "base_uri": "https://localhost:8080/",
          "height": 295
        },
        "id": "iM8Yff_AAg_A",
        "outputId": "db4b0286-9623-497d-bdca-53ffa67b2870"
      },
      "execution_count": null,
      "outputs": [
        {
          "output_type": "display_data",
          "data": {
            "text/plain": [
              "<Figure size 432x288 with 1 Axes>"
            ],
            "image/png": "[encoded data removed]"
          },
          "metadata": {
            "needs_background": "light"
          }
        }
      ]
    },
    {
      "cell_type": "code",
      "source": [
        "plt.xlabel(\"CPU\")\n",
        "plt.ylabel(\"Resources\")\n",
        "plt.title(\"CPU Vs Resources\")\n",
        "plt.scatter(df['CPU'], df['Memory'], color='orange')\n",
        "plt.show()"
      ],
      "metadata": {
        "id": "XP7CL73-ASbo"
      },
      "execution_count": null,
      "outputs": []
    },
    {
      "cell_type": "code",
      "source": [
        "df = pd.read_csv(\"/content/CNP.csv\", header = None, skiprows = 1)\n",
        "df"
      ],
      "metadata": {
        "id": "8PA6nuUub0HC"
      },
      "execution_count": null,
      "outputs": []
    },
    {
      "cell_type": "code",
      "source": [
        "df.describe()"
      ],
      "metadata": {
        "id": "0AYwBivQl3je"
      },
      "execution_count": null,
      "outputs": []
    },
    {
      "cell_type": "code",
      "source": [
        "df.shape"
      ],
      "metadata": {
        "id": "goX0Jgc489GQ"
      },
      "execution_count": null,
      "outputs": []
    },
    {
      "cell_type": "code",
      "source": [
        "arr = df.to_numpy()\n",
        "arr"
      ],
      "metadata": {
        "id": "iDsf6o1cdhTZ"
      },
      "execution_count": null,
      "outputs": []
    },
    {
      "cell_type": "code",
      "source": [
        "lst = []\n",
        "for i in range(5) : \n",
        "  row = random.randint(0, 106)\n",
        "  lst.append(arr[row])\n",
        "state = np.array(lst)\n",
        "state"
      ],
      "metadata": {
        "id": "hnOs9IczjQrw"
      },
      "execution_count": null,
      "outputs": []
    },
    {
      "cell_type": "code",
      "source": [
        "class env:\n",
        "    rand_seed = 10\n",
        "    def __init__(self, resources, num_tasks):\n",
        "\n",
        "        self.limit_ = 0\n",
        "        \n",
        "        lst = []\n",
        "        for i in range(5) : \n",
        "          row = random.randint(0, 106)\n",
        "          lst.append(arr[row])\n",
        "        self.state_ = np.array(lst)\n",
        "        print(self.state_)\n",
        "\n",
        "        self.reward_ = 0\n",
        "        for lim in resources:\n",
        "            self.limit_+=lim   #Set the total resource limit as sum of resources\n",
        "            \n",
        "        self.num_tasks_ = num_tasks\n",
        "        self.resources_ = resources      \n",
        "    \n",
        "    def get_initial_state(self):\n",
        "\n",
        "        lst = []\n",
        "        for i in range(5) : \n",
        "          row = random.randint(0, 106)\n",
        "          lst.append(arr[row])\n",
        "        self.state_ = np.array(lst)\n",
        "        print(self.state_)\n",
        "\n",
        "        self.reward_ = 0\n",
        "        self.num_tasks_ = num_tasks\n",
        "        return self.state_\n",
        "    \n",
        "    def getSum(self, x ):\n",
        "        if x[0] == 1:\n",
        "            return sum(x)-1\n",
        "        else:\n",
        "            return 0\n",
        "   \n",
        "    def get_next_step(self, actionIdx):\n",
        "        ### update reward\n",
        "        self.reward_ = 0\n",
        "        reward = 0\n",
        "        done = False\n",
        "        #update the state based on action\n",
        "        #case 1, if same task selected then penalize the agent\n",
        "\n",
        "        if self.state_[actionIdx][0] == 1:\n",
        "            sum_res = np.sum(self.state_[actionIdx], axis=0)\n",
        "            reward = -sum_res/10;\n",
        "        else:\n",
        "            self.state_[actionIdx][0] = 1\n",
        "       \n",
        "        #collect all the resources for this batch until now.\n",
        "        totReward = sum(np.apply_along_axis( self.getSum, axis=1, arr=self.state_ ))\n",
        "        # get the sum for selected task\n",
        "        sum_res = np.sum(self.state_[actionIdx], axis=0) \n",
        "        if totReward <= self.limit_:\n",
        "            reward = sum_res\n",
        "        else:\n",
        "            reward = -sum_res/10;\n",
        "            done = True\n",
        "            \n",
        "        return self.state_,reward,done\n",
        "\n",
        "resources = [80, 73] #resource limits\n",
        "num_tasks = 5\n",
        "en = env(resources,num_tasks)\n",
        "action = 1\n",
        "en.get_next_step(action)"
      ],
      "metadata": {
        "id": "dbERcAA10_W9"
      },
      "execution_count": null,
      "outputs": []
    },
    {
      "cell_type": "code",
      "source": [
        "\n",
        "from keras.models import Sequential\n",
        "from keras.layers import InputLayer\n",
        "from keras.models import Sequential\n",
        "from keras.layers import Activation, Dense\n",
        "\n",
        "resources = [80, 73] #resource limits\n",
        "num_tasks = 5\n",
        "input_layer_n = num_tasks\n",
        "output_layer_n = 5\n",
        "dense_layer_n = 10\n",
        "\n",
        "envs = env(resources, num_tasks)\n",
        "\n",
        "model = Sequential()\n",
        "#model.add(InputLayer(batch_input_shape=(1, input_layer_n)))\n",
        "model.add(InputLayer(batch_input_shape=(1, 3)))\n",
        "model.add(Dense(dense_layer_n, activation='sigmoid'))\n",
        "model.add(Dense(output_layer_n, activation='linear'))\n",
        "model.compile(loss='mse', optimizer='adam', metrics=['mae'])\n",
        "\n",
        "num_job_samples = 106\n",
        "# now execute the q learning\n",
        "y = 0.95\n",
        "eps = 0.5\n",
        "decay_factor = 0.999\n",
        "r_avg_list = []\n",
        "\n",
        "for i in range(num_job_samples):   #batch of 5 jobs and total of 106 samples\n",
        "    s = envs.get_initial_state()# stating state would be no selected jobs\n",
        "    eps *= decay_factor\n",
        "    print(\"Episode {} of {}\".format(i + 1, num_job_samples))\n",
        "    scheduled = False\n",
        "    r_sum = 0\n",
        "\n",
        "    while not scheduled:\n",
        "        if np.random.random() < eps:\n",
        "            a = np.random.randint(0, 5) #This will pick a random action\n",
        "        else:\n",
        "            #predicted value is a vector of q values\n",
        "            print(\"prediction: \",model.predict(s))\n",
        "            a = np.argmax(model.predict(s)[0]) \n",
        "        \n",
        "        new_s, r, scheduled = envs.get_next_step(a) #Lets say it sel\n",
        "        # print(np.array(new_s))\n",
        "        #model.predict(np.array(new_s))\n",
        "        target = r + y * np.max(model.predict(np.array(new_s)))\n",
        "        #target = r + y * np.max(model.predict(np.array(new_s))\n",
        "        target_vec = model.predict(s)\n",
        "        #Update only the current state value\n",
        "        target_vec[a] = target\n",
        "        model.fit(s, target_vec, epochs=100, verbose=0)\n",
        "        s = new_s\n",
        "        r_sum += r\n",
        "    r_avg_list.append(r_sum/106)\n",
        "    print(r_avg_list)\n",
        "#print(r_avg_list)"
      ],
      "metadata": {
        "id": "_UoN3CyQ0JCG"
      },
      "execution_count": null,
      "outputs": []
    },
    {
      "cell_type": "code",
      "execution_count": null,
      "metadata": {
        "id": "WCx8YBgoDC-w"
      },
      "outputs": [],
      "source": [
        "len(r_avg_list)"
      ]
    },
    {
      "cell_type": "code",
      "source": [
        "print(s)"
      ],
      "metadata": {
        "id": "rWQ-ynNjABIo"
      },
      "execution_count": null,
      "outputs": []
    },
    {
      "cell_type": "code",
      "source": [
        "target_vec = model.predict([[0,52,73], [0,45,68], [0,25,50], [0,75,13], [0,25,33]])"
      ],
      "metadata": {
        "id": "RSw1rTYu_pVh"
      },
      "execution_count": null,
      "outputs": []
    },
    {
      "cell_type": "code",
      "source": [
        "np.max(target_vec)"
      ],
      "metadata": {
        "id": "q4KPZGlQQ0IA"
      },
      "execution_count": null,
      "outputs": []
    },
    {
      "cell_type": "code",
      "source": [],
      "metadata": {
        "id": "iu8r-5X5Hanl"
      },
      "execution_count": null,
      "outputs": []
    }
  ],
  "metadata": {
    "accelerator": "GPU",
    "colab": {
      "provenance": []
    },
    "gpuClass": "standard",
    "kernelspec": {
      "display_name": "Python 3",
      "name": "python3"
    }
  },
  "nbformat": 4,
  "nbformat_minor": 0
}